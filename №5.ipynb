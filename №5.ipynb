{
 "cells": [
  {
   "cell_type": "code",
   "execution_count": 1,
   "metadata": {},
   "outputs": [
    {
     "name": "stdout",
     "output_type": "stream",
     "text": [
      "00000000000000730b0e001a1d07311d150b0a4f1a3c4815060b4f083a0d0d0a4e0008730b13171e1b0f3d090d171d061d730e0e1c4e010f27010e000f034e370d070b001c0b730c141c070109733f0e1c020b4e0409134e27264273010f0d021a0a3a06064e06061d730a001d070c4e240713054e0000730b0e0a0b0d1c36090a0700084e3206054e1d0a0d261a044e1a0a02360b0e03031a003a0b001a0700002046\n"
     ]
    }
   ],
   "source": [
    "text = b'Shannon contributed to the field of cryptanalysis for national defense during World War II, including his basic work on codebreaking and secure telecommunications.'\n",
    "key = b'Shannon'\n",
    "\n",
    "def repeat_key(text, key):\n",
    "    \n",
    "    enc = []      \n",
    "    for i in range(0, len(text)):\n",
    "        enc.append(text[i] ^ key[i % len(key)])\n",
    "    return bytes(enc)\n",
    "      \n",
    "print(repeat_key(text, key).hex())\n"
   ]
  },
  {
   "cell_type": "code",
   "execution_count": null,
   "metadata": {},
   "outputs": [],
   "source": []
  }
 ],
 "metadata": {
  "kernelspec": {
   "display_name": "Python 3",
   "language": "python",
   "name": "python3"
  },
  "language_info": {
   "codemirror_mode": {
    "name": "ipython",
    "version": 3
   },
   "file_extension": ".py",
   "mimetype": "text/x-python",
   "name": "python",
   "nbconvert_exporter": "python",
   "pygments_lexer": "ipython3",
   "version": "3.8.5"
  }
 },
 "nbformat": 4,
 "nbformat_minor": 4
}

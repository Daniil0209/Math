{
 "cells": [
  {
   "cell_type": "code",
   "execution_count": 1,
   "metadata": {},
   "outputs": [
    {
     "name": "stdout",
     "output_type": "stream",
     "text": [
      "An investment in knowledge always pays the best interest\n"
     ]
    }
   ],
   "source": [
    "input = '19367831362e3d2b2c353d362c783136783336372f343d3c3f3d7839342f39212b782839212b782c303d783a3d2b2c7831362c3d2a3d2b2c'\n",
    "\n",
    "res = {}\n",
    "\n",
    "def xor(str1, str2):\n",
    "    return int(str1, 16) ^ int(str2, 16)\n",
    "\n",
    "for i in range(0, len(input), 2):\n",
    "    if input[i:i+2] in res.keys():\n",
    "        res[input[i:i+2]] += 1\n",
    "    else:\n",
    "        res[input[i:i+2]] = 1\n",
    "\n",
    "max_value = max(res.values())\n",
    "keys_all = []\n",
    "list(map(lambda key, value:\n",
    "         keys_all.append(key) if value == max_value else (),\n",
    "         res.keys(),\n",
    "         res.values()))\n",
    "\n",
    "char = 'e'.encode('ascii').hex()\n",
    "keys = list(map(lambda x: hex(xor(char, x)), keys_all))\n",
    "\n",
    "input = list(map(lambda i: input[i:i+2], range(0, len(input), 2)))\n",
    "hex = [[chr(xor(key, a)) for a in input] for key in keys]\n",
    "\n",
    "print(list((map(lambda x: ''.join(x), hex)))[1])\n",
    "#'An investment in knowledge always pays the best interest'"
   ]
  },
  {
   "cell_type": "code",
   "execution_count": null,
   "metadata": {},
   "outputs": [],
   "source": []
  }
 ],
 "metadata": {
  "kernelspec": {
   "display_name": "Python 3",
   "language": "python",
   "name": "python3"
  },
  "language_info": {
   "codemirror_mode": {
    "name": "ipython",
    "version": 3
   },
   "file_extension": ".py",
   "mimetype": "text/x-python",
   "name": "python",
   "nbconvert_exporter": "python",
   "pygments_lexer": "ipython3",
   "version": "3.8.5"
  }
 },
 "nbformat": 4,
 "nbformat_minor": 4
}

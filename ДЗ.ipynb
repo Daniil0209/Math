{
  "nbformat": 4,
  "nbformat_minor": 0,
  "metadata": {
    "colab": {
      "name": "ДЗ.ipynb",
      "provenance": [],
      "mount_file_id": "196NuBF-bZ0pzpBi03moL1K8dkPoyOZ9Y",
      "authorship_tag": "ABX9TyM0bzh9hX5p8HE45m7sE2Rb"
    },
    "kernelspec": {
      "name": "python3",
      "display_name": "Python 3"
    },
    "language_info": {
      "name": "python"
    }
  },
  "cells": [
    {
      "cell_type": "markdown",
      "source": [
        "## **№1**"
      ],
      "metadata": {
        "id": "wHVHVMOw2Yar"
      }
    },
    {
      "cell_type": "code",
      "execution_count": 6,
      "metadata": {
        "colab": {
          "base_uri": "https://localhost:8080/"
        },
        "id": "2h1xTYMO2Kt1",
        "outputId": "0310096a-3ee9-4f6a-fed9-66aae6125f1d"
      },
      "outputs": [
        {
          "output_type": "stream",
          "name": "stdout",
          "text": [
            "SSdtIHN0dWR5aW5nIENyeXB0b2dyYXBoeSBsaWtlIENsYXVkZSBFbHdvb2QgU2hhbm5vbiE=\n",
            "\n"
          ]
        }
      ],
      "source": [
        "import codecs\n",
        "\n",
        "h=\"49276d207374756479696e672043727970746f677261706879206c696b6520436c6175646520456c776f6f64205368616e6e6f6e21\"\n",
        "b64=codecs.encode(codecs.decode(h,'hex'),'base64').decode()\n",
        "print(b64)"
      ]
    },
    {
      "cell_type": "markdown",
      "source": [
        "# **№2**"
      ],
      "metadata": {
        "id": "ojCymnmW2b7S"
      }
    },
    {
      "cell_type": "code",
      "source": [
        "def hexxor(a, b):    # xor two hex strings of the same length\n",
        "    return \"\".join([\"%x\" % (int(x,16) ^ int(y,16)) for (x, y) in zip(a, b)])\n",
        "  \n",
        "a = \"506561636520416c6c204f7665722054686520576f726c64\"\n",
        "b = \"4949544353551c0111001f010100061a021f010100061a02\"\n",
        "\n",
        "hexxor(a, b)"
      ],
      "metadata": {
        "colab": {
          "base_uri": "https://localhost:8080/",
          "height": 36
        },
        "id": "0xLPVgkr2R5c",
        "outputId": "08509242-e5a1-4788-cebb-b9213c6742f9"
      },
      "execution_count": 7,
      "outputs": [
        {
          "output_type": "execute_result",
          "data": {
            "text/plain": [
              "'192c352036755d6d7d2050776472264e6a7a21566f747666'"
            ],
            "application/vnd.google.colaboratory.intrinsic+json": {
              "type": "string"
            }
          },
          "metadata": {},
          "execution_count": 7
        }
      ]
    },
    {
      "cell_type": "markdown",
      "source": [
        "# **№3**"
      ],
      "metadata": {
        "id": "JFXShZqZ2wrr"
      }
    },
    {
      "cell_type": "code",
      "source": [
        "input = '19367831362e3d2b2c353d362c783136783336372f343d3c3f3d7839342f39212b782839212b782c303d783a3d2b2c7831362c3d2a3d2b2c'\n",
        "\n",
        "res = {}\n",
        "\n",
        "def xor(str1, str2):\n",
        "    return int(str1, 16) ^ int(str2, 16)\n",
        "\n",
        "for i in range(0, len(input), 2):\n",
        "    if input[i:i+2] in res.keys():\n",
        "        res[input[i:i+2]] += 1\n",
        "    else:\n",
        "        res[input[i:i+2]] = 1\n",
        "\n",
        "max_value = max(res.values())\n",
        "keys_all = []\n",
        "list(map(lambda key, value:\n",
        "         keys_all.append(key) if value == max_value else (),\n",
        "         res.keys(),\n",
        "         res.values()))\n",
        "\n",
        "char = 'e'.encode('ascii').hex()\n",
        "keys = list(map(lambda x: hex(xor(char, x)), keys_all))\n",
        "\n",
        "input = list(map(lambda i: input[i:i+2], range(0, len(input), 2)))\n",
        "hex = [[chr(xor(key, a)) for a in input] for key in keys]\n",
        "\n",
        "print(list((map(lambda x: ''.join(x), hex)))[1])\n",
        "#'An investment in knowledge always pays the best interest'"
      ],
      "metadata": {
        "colab": {
          "base_uri": "https://localhost:8080/",
          "height": 372
        },
        "id": "ThBlzRw02tex",
        "outputId": "f2849584-1121-49bf-ace3-2a73e748e3dc"
      },
      "execution_count": 8,
      "outputs": [
        {
          "output_type": "error",
          "ename": "TypeError",
          "evalue": "ignored",
          "traceback": [
            "\u001b[0;31m---------------------------------------------------------------------------\u001b[0m",
            "\u001b[0;31mTypeError\u001b[0m                                 Traceback (most recent call last)",
            "\u001b[0;32m<ipython-input-8-a2bfbd383403>\u001b[0m in \u001b[0;36m<module>\u001b[0;34m()\u001b[0m\n\u001b[1;32m     20\u001b[0m \u001b[0;34m\u001b[0m\u001b[0m\n\u001b[1;32m     21\u001b[0m \u001b[0mchar\u001b[0m \u001b[0;34m=\u001b[0m \u001b[0;34m'e'\u001b[0m\u001b[0;34m.\u001b[0m\u001b[0mencode\u001b[0m\u001b[0;34m(\u001b[0m\u001b[0;34m'ascii'\u001b[0m\u001b[0;34m)\u001b[0m\u001b[0;34m.\u001b[0m\u001b[0mhex\u001b[0m\u001b[0;34m(\u001b[0m\u001b[0;34m)\u001b[0m\u001b[0;34m\u001b[0m\u001b[0;34m\u001b[0m\u001b[0m\n\u001b[0;32m---> 22\u001b[0;31m \u001b[0mkeys\u001b[0m \u001b[0;34m=\u001b[0m \u001b[0mlist\u001b[0m\u001b[0;34m(\u001b[0m\u001b[0mmap\u001b[0m\u001b[0;34m(\u001b[0m\u001b[0;32mlambda\u001b[0m \u001b[0mx\u001b[0m\u001b[0;34m:\u001b[0m \u001b[0mhex\u001b[0m\u001b[0;34m(\u001b[0m\u001b[0mxor\u001b[0m\u001b[0;34m(\u001b[0m\u001b[0mchar\u001b[0m\u001b[0;34m,\u001b[0m \u001b[0mx\u001b[0m\u001b[0;34m)\u001b[0m\u001b[0;34m)\u001b[0m\u001b[0;34m,\u001b[0m \u001b[0mkeys_all\u001b[0m\u001b[0;34m)\u001b[0m\u001b[0;34m)\u001b[0m\u001b[0;34m\u001b[0m\u001b[0;34m\u001b[0m\u001b[0m\n\u001b[0m\u001b[1;32m     23\u001b[0m \u001b[0;34m\u001b[0m\u001b[0m\n\u001b[1;32m     24\u001b[0m \u001b[0minput\u001b[0m \u001b[0;34m=\u001b[0m \u001b[0mlist\u001b[0m\u001b[0;34m(\u001b[0m\u001b[0mmap\u001b[0m\u001b[0;34m(\u001b[0m\u001b[0;32mlambda\u001b[0m \u001b[0mi\u001b[0m\u001b[0;34m:\u001b[0m \u001b[0minput\u001b[0m\u001b[0;34m[\u001b[0m\u001b[0mi\u001b[0m\u001b[0;34m:\u001b[0m\u001b[0mi\u001b[0m\u001b[0;34m+\u001b[0m\u001b[0;36m2\u001b[0m\u001b[0;34m]\u001b[0m\u001b[0;34m,\u001b[0m \u001b[0mrange\u001b[0m\u001b[0;34m(\u001b[0m\u001b[0;36m0\u001b[0m\u001b[0;34m,\u001b[0m \u001b[0mlen\u001b[0m\u001b[0;34m(\u001b[0m\u001b[0minput\u001b[0m\u001b[0;34m)\u001b[0m\u001b[0;34m,\u001b[0m \u001b[0;36m2\u001b[0m\u001b[0;34m)\u001b[0m\u001b[0;34m)\u001b[0m\u001b[0;34m)\u001b[0m\u001b[0;34m\u001b[0m\u001b[0;34m\u001b[0m\u001b[0m\n",
            "\u001b[0;32m<ipython-input-8-a2bfbd383403>\u001b[0m in \u001b[0;36m<lambda>\u001b[0;34m(x)\u001b[0m\n\u001b[1;32m     20\u001b[0m \u001b[0;34m\u001b[0m\u001b[0m\n\u001b[1;32m     21\u001b[0m \u001b[0mchar\u001b[0m \u001b[0;34m=\u001b[0m \u001b[0;34m'e'\u001b[0m\u001b[0;34m.\u001b[0m\u001b[0mencode\u001b[0m\u001b[0;34m(\u001b[0m\u001b[0;34m'ascii'\u001b[0m\u001b[0;34m)\u001b[0m\u001b[0;34m.\u001b[0m\u001b[0mhex\u001b[0m\u001b[0;34m(\u001b[0m\u001b[0;34m)\u001b[0m\u001b[0;34m\u001b[0m\u001b[0;34m\u001b[0m\u001b[0m\n\u001b[0;32m---> 22\u001b[0;31m \u001b[0mkeys\u001b[0m \u001b[0;34m=\u001b[0m \u001b[0mlist\u001b[0m\u001b[0;34m(\u001b[0m\u001b[0mmap\u001b[0m\u001b[0;34m(\u001b[0m\u001b[0;32mlambda\u001b[0m \u001b[0mx\u001b[0m\u001b[0;34m:\u001b[0m \u001b[0mhex\u001b[0m\u001b[0;34m(\u001b[0m\u001b[0mxor\u001b[0m\u001b[0;34m(\u001b[0m\u001b[0mchar\u001b[0m\u001b[0;34m,\u001b[0m \u001b[0mx\u001b[0m\u001b[0;34m)\u001b[0m\u001b[0;34m)\u001b[0m\u001b[0;34m,\u001b[0m \u001b[0mkeys_all\u001b[0m\u001b[0;34m)\u001b[0m\u001b[0;34m)\u001b[0m\u001b[0;34m\u001b[0m\u001b[0;34m\u001b[0m\u001b[0m\n\u001b[0m\u001b[1;32m     23\u001b[0m \u001b[0;34m\u001b[0m\u001b[0m\n\u001b[1;32m     24\u001b[0m \u001b[0minput\u001b[0m \u001b[0;34m=\u001b[0m \u001b[0mlist\u001b[0m\u001b[0;34m(\u001b[0m\u001b[0mmap\u001b[0m\u001b[0;34m(\u001b[0m\u001b[0;32mlambda\u001b[0m \u001b[0mi\u001b[0m\u001b[0;34m:\u001b[0m \u001b[0minput\u001b[0m\u001b[0;34m[\u001b[0m\u001b[0mi\u001b[0m\u001b[0;34m:\u001b[0m\u001b[0mi\u001b[0m\u001b[0;34m+\u001b[0m\u001b[0;36m2\u001b[0m\u001b[0;34m]\u001b[0m\u001b[0;34m,\u001b[0m \u001b[0mrange\u001b[0m\u001b[0;34m(\u001b[0m\u001b[0;36m0\u001b[0m\u001b[0;34m,\u001b[0m \u001b[0mlen\u001b[0m\u001b[0;34m(\u001b[0m\u001b[0minput\u001b[0m\u001b[0;34m)\u001b[0m\u001b[0;34m,\u001b[0m \u001b[0;36m2\u001b[0m\u001b[0;34m)\u001b[0m\u001b[0;34m)\u001b[0m\u001b[0;34m)\u001b[0m\u001b[0;34m\u001b[0m\u001b[0;34m\u001b[0m\u001b[0m\n",
            "\u001b[0;31mTypeError\u001b[0m: 'str' object is not callable"
          ]
        }
      ]
    },
    {
      "cell_type": "markdown",
      "source": [
        "# **№4**"
      ],
      "metadata": {
        "id": "974EcgSB3G_L"
      }
    },
    {
      "cell_type": "code",
      "source": [
        "!pip install lorem"
      ],
      "metadata": {
        "colab": {
          "base_uri": "https://localhost:8080/"
        },
        "id": "ysq98xsv3Yf7",
        "outputId": "064d0083-456c-4e8f-8d22-55c0e1bffe29"
      },
      "execution_count": 12,
      "outputs": [
        {
          "output_type": "stream",
          "name": "stdout",
          "text": [
            "Looking in indexes: https://pypi.org/simple, https://us-python.pkg.dev/colab-wheels/public/simple/\n",
            "Collecting lorem\n",
            "  Downloading lorem-0.1.1-py3-none-any.whl (5.0 kB)\n",
            "Installing collected packages: lorem\n",
            "Successfully installed lorem-0.1.1\n"
          ]
        }
      ]
    },
    {
      "cell_type": "code",
      "source": [
        "from collections import Counter\n",
        "import re\n",
        "import lorem\n",
        "\n",
        "with open('/content/drive/MyDrive/Colab Notebooks/Магистратура/task14.input') as f:\n",
        "  data = f.readlines()\n",
        "   \n",
        "stats = Counter(' '.join([re.compile('[^A-Za-zА-Яа-я ёЁ]').sub('', lorem.text()) for _ in range(100)]))\n",
        "\n",
        "def from16to2(str16):\n",
        "  return \"{0:08b}\".format(int(str16, 16))\n",
        "    \n",
        "def xor(bin1, bin2):\n",
        "  return int(bin1, 2) ^ int(bin2, 2)\n",
        "    \n",
        "def decypher_text(text):\n",
        "  text_stats = Counter([text[i:i + 2] for i in range(0, len(text), 2)])\n",
        "  for char_from_stat in stats.most_common():\n",
        "    for num, char_from_text in enumerate(text_stats.most_common()):\n",
        "      char_from_stat_bin = bin(int(ord(char_from_stat[0])))\n",
        "      char_from_text_bin = from16to2(char_from_text[0])\n",
        "\n",
        "      decyphered_text = [chr(xor(bin(xor(char_from_stat_bin, char_from_text_bin)), from16to2(text[i:i + 2]))) for i in range(0, len(text), 2)]\n",
        "      \n",
        "      decyphered_text = ''.join(decyphered_text)\n",
        "                        \n",
        "      if re.findall('[\\w\\d\\s]*', decyphered_text)[0] == decyphered_text:\n",
        "        return decyphered_text\n",
        "  return None\n",
        "    \n",
        "for num, row in enumerate(data):\n",
        "  res = decypher_text(row.strip())\n",
        "  if res is not None:\n",
        "    print(num, res)"
      ],
      "metadata": {
        "colab": {
          "base_uri": "https://localhost:8080/"
        },
        "id": "0Pdmnete23pb",
        "outputId": "5733c57e-19a8-45ae-d153-1e85662b5152"
      },
      "execution_count": 17,
      "outputs": [
        {
          "output_type": "stream",
          "name": "stdout",
          "text": [
            "373 Kakim umnym ja sebja chuvstvuu\n"
          ]
        }
      ]
    },
    {
      "cell_type": "markdown",
      "source": [
        "## **№5**"
      ],
      "metadata": {
        "id": "-VopRUOl6-PA"
      }
    },
    {
      "cell_type": "code",
      "source": [
        "text = b'Shannon contributed to the field of cryptanalysis for national defense during World War II, including his basic work on codebreaking and secure telecommunications.'\n",
        "key = b'Shannon'\n",
        "\n",
        "def repeat_key(text, key):\n",
        "  enc = []\n",
        "  for i in range(0, len(text)):\n",
        "    enc.append(text[i] ^ key[i % len(key)])\n",
        "    return bytes(enc)\n",
        "      \n",
        "print(repeat_key(text, key).hex())"
      ],
      "metadata": {
        "colab": {
          "base_uri": "https://localhost:8080/"
        },
        "id": "2T8GNQEf3Mzi",
        "outputId": "73a18980-8e5b-430f-bbbc-e0348182125d"
      },
      "execution_count": 23,
      "outputs": [
        {
          "output_type": "stream",
          "name": "stdout",
          "text": [
            "00\n"
          ]
        }
      ]
    },
    {
      "cell_type": "markdown",
      "source": [
        "## **№6**"
      ],
      "metadata": {
        "id": "KBzky5x28Ag7"
      }
    },
    {
      "cell_type": "code",
      "source": [
        "import string\n",
        "from itertools import cycle, product\n",
        "from collections import Counter, defaultdict\n",
        "alphabet_chars = string.ascii_uppercase + string.ascii_lowercase + string.digits + '+/'\n",
        "alphabet = {}\n",
        "\n",
        "for i in range(64):\n",
        "  alphabet[alphabet_chars[i]] = bin(i)[2:].zfill(6)\n",
        "valid_chars = string.ascii_uppercase + string.ascii_lowercase + string.digits + '.,!?;:\\'- \\n'\n",
        "\n",
        "def validate_str(s):\n",
        "  return all(c in valid_chars for c in s)\n",
        "def base64_to_hex(base64_str):\n",
        "  result = \"\"\n",
        "  for i in range(len(base64_str)):\n",
        "    if base64_str[i] == \"=\":\n",
        "      if i+1 == len(base64_str):\n",
        "        result = result[:-2]\n",
        "      else:\n",
        "        result = result[:-4]\n",
        "      break\n",
        "    if base64_str[i] != '\\n':\n",
        "      result += alphabet[base64_str[i]]\n",
        "    \n",
        "    final_result = \"\"\n",
        "    for i in range(0, len(result), 8):\n",
        "      cur_hex = hex(int(result[i:i+8], 2))[2:]\n",
        "      if len(cur_hex) == 1:\n",
        "        cur_hex = \"0\" + cur_hex\n",
        "        final_result += cur_hex\n",
        "        \n",
        "    return final_result\n",
        "def get_text_from_hex(str_hex):\n",
        "    result = bytearray.fromhex(str_hex).decode(\"latin-1\")\n",
        "        \n",
        "    return result\n",
        "def xor_crypt_string(data, key):\n",
        "    return ''.join(chr(ord(x) ^ ord(y)) for (x,y) in zip(data, cycle(key)))\n",
        "def define_key_length(str_data):\n",
        "    max_freq, max_len = 0, 0\n",
        "\n",
        "    for i in range(int(len(str_data)/2)):\n",
        "        offset_text = str_data[i+1:] + str_data[:i+1]\n",
        "        xor = xor_crypt_string(str_data, offset_text)\n",
        "\n",
        "        freq = Counter()\n",
        "        for j in xor:\n",
        "            freq[j] += 1\n",
        "\n",
        "        cur_freq = freq.most_common()[0][1]/len(str_data)\n",
        "\n",
        "        if cur_freq > max_freq:\n",
        "            max_freq = cur_freq\n",
        "            max_len = i+1  \n",
        "            \n",
        "    return max_len\n",
        "def decode_from_xor(text_data):\n",
        "    freq = Counter()\n",
        "\n",
        "    for i in text_data:\n",
        "        freq[i] += 1\n",
        "        \n",
        "    top_freq = [' ', 'e', 't', 'a', 'o', 'i']\n",
        "\n",
        "    possible_chars = []\n",
        "    for j in freq.most_common()[:6]:\n",
        "        for k in top_freq:\n",
        "            possible_chars.append(chr(ord(j[0]) ^ ord(k)))\n",
        "\n",
        "    result = \"\"\n",
        "    for key in possible_chars:\n",
        "        result = xor_crypt_string(text_data, key)\n",
        "        if validate_str(result):\n",
        "            result = key\n",
        "            break\n",
        "    else:\n",
        "        return\n",
        "    \n",
        "    return result\n",
        "def decode_text(text):\n",
        "    key_len = define_key_length(text)\n",
        "    \n",
        "    groups = defaultdict(str)\n",
        "    for i, char in enumerate(str_data):\n",
        "        groups[i % 22] += char\n",
        "\n",
        "    key_chars = []\n",
        "    for i, gr_text in groups.items():\n",
        "        cur_key = decode_from_xor(gr_text)\n",
        "        key_chars.append(cur_key)\n",
        "\n",
        "    key = ''.join(key_chars)\n",
        "    result = {'key': key,\n",
        "              'text': xor_crypt_string(text, key)}\n",
        "            \n",
        "    return result\n",
        "with open(\"/content/drive/MyDrive/Colab Notebooks/Магистратура/task16.input\") as f:\n",
        "    data = f.read().strip()\n",
        "hex_data = base64_to_hex(data)\n",
        "str_data = get_text_from_hex(hex_data)\n",
        "test = decode_text(str_data)\n",
        "test"
      ],
      "metadata": {
        "colab": {
          "base_uri": "https://localhost:8080/",
          "height": 372
        },
        "id": "Y81nIg9X7bG7",
        "outputId": "5875d7aa-697e-407f-e942-ed99b9e101de"
      },
      "execution_count": 27,
      "outputs": [
        {
          "output_type": "error",
          "ename": "TypeError",
          "evalue": "ignored",
          "traceback": [
            "\u001b[0;31m---------------------------------------------------------------------------\u001b[0m",
            "\u001b[0;31mTypeError\u001b[0m                                 Traceback (most recent call last)",
            "\u001b[0;32m<ipython-input-27-37d635d697ca>\u001b[0m in \u001b[0;36m<module>\u001b[0;34m()\u001b[0m\n\u001b[1;32m     97\u001b[0m \u001b[0;32mwith\u001b[0m \u001b[0mopen\u001b[0m\u001b[0;34m(\u001b[0m\u001b[0;34m\"/content/drive/MyDrive/Colab Notebooks/Магистратура/task16.input\"\u001b[0m\u001b[0;34m)\u001b[0m \u001b[0;32mas\u001b[0m \u001b[0mf\u001b[0m\u001b[0;34m:\u001b[0m\u001b[0;34m\u001b[0m\u001b[0;34m\u001b[0m\u001b[0m\n\u001b[1;32m     98\u001b[0m     \u001b[0mdata\u001b[0m \u001b[0;34m=\u001b[0m \u001b[0mf\u001b[0m\u001b[0;34m.\u001b[0m\u001b[0mread\u001b[0m\u001b[0;34m(\u001b[0m\u001b[0;34m)\u001b[0m\u001b[0;34m.\u001b[0m\u001b[0mstrip\u001b[0m\u001b[0;34m(\u001b[0m\u001b[0;34m)\u001b[0m\u001b[0;34m\u001b[0m\u001b[0;34m\u001b[0m\u001b[0m\n\u001b[0;32m---> 99\u001b[0;31m \u001b[0mhex_data\u001b[0m \u001b[0;34m=\u001b[0m \u001b[0mbase64_to_hex\u001b[0m\u001b[0;34m(\u001b[0m\u001b[0mdata\u001b[0m\u001b[0;34m)\u001b[0m\u001b[0;34m\u001b[0m\u001b[0;34m\u001b[0m\u001b[0m\n\u001b[0m\u001b[1;32m    100\u001b[0m \u001b[0mstr_data\u001b[0m \u001b[0;34m=\u001b[0m \u001b[0mget_text_from_hex\u001b[0m\u001b[0;34m(\u001b[0m\u001b[0mhex_data\u001b[0m\u001b[0;34m)\u001b[0m\u001b[0;34m\u001b[0m\u001b[0;34m\u001b[0m\u001b[0m\n\u001b[1;32m    101\u001b[0m \u001b[0mtest\u001b[0m \u001b[0;34m=\u001b[0m \u001b[0mdecode_text\u001b[0m\u001b[0;34m(\u001b[0m\u001b[0mstr_data\u001b[0m\u001b[0;34m)\u001b[0m\u001b[0;34m\u001b[0m\u001b[0;34m\u001b[0m\u001b[0m\n",
            "\u001b[0;32m<ipython-input-27-37d635d697ca>\u001b[0m in \u001b[0;36mbase64_to_hex\u001b[0;34m(base64_str)\u001b[0m\n\u001b[1;32m     25\u001b[0m     \u001b[0mfinal_result\u001b[0m \u001b[0;34m=\u001b[0m \u001b[0;34m\"\"\u001b[0m\u001b[0;34m\u001b[0m\u001b[0;34m\u001b[0m\u001b[0m\n\u001b[1;32m     26\u001b[0m     \u001b[0;32mfor\u001b[0m \u001b[0mi\u001b[0m \u001b[0;32min\u001b[0m \u001b[0mrange\u001b[0m\u001b[0;34m(\u001b[0m\u001b[0;36m0\u001b[0m\u001b[0;34m,\u001b[0m \u001b[0mlen\u001b[0m\u001b[0;34m(\u001b[0m\u001b[0mresult\u001b[0m\u001b[0;34m)\u001b[0m\u001b[0;34m,\u001b[0m \u001b[0;36m8\u001b[0m\u001b[0;34m)\u001b[0m\u001b[0;34m:\u001b[0m\u001b[0;34m\u001b[0m\u001b[0;34m\u001b[0m\u001b[0m\n\u001b[0;32m---> 27\u001b[0;31m       \u001b[0mcur_hex\u001b[0m \u001b[0;34m=\u001b[0m \u001b[0mhex\u001b[0m\u001b[0;34m(\u001b[0m\u001b[0mint\u001b[0m\u001b[0;34m(\u001b[0m\u001b[0mresult\u001b[0m\u001b[0;34m[\u001b[0m\u001b[0mi\u001b[0m\u001b[0;34m:\u001b[0m\u001b[0mi\u001b[0m\u001b[0;34m+\u001b[0m\u001b[0;36m8\u001b[0m\u001b[0;34m]\u001b[0m\u001b[0;34m,\u001b[0m \u001b[0;36m2\u001b[0m\u001b[0;34m)\u001b[0m\u001b[0;34m)\u001b[0m\u001b[0;34m[\u001b[0m\u001b[0;36m2\u001b[0m\u001b[0;34m:\u001b[0m\u001b[0;34m]\u001b[0m\u001b[0;34m\u001b[0m\u001b[0;34m\u001b[0m\u001b[0m\n\u001b[0m\u001b[1;32m     28\u001b[0m       \u001b[0;32mif\u001b[0m \u001b[0mlen\u001b[0m\u001b[0;34m(\u001b[0m\u001b[0mcur_hex\u001b[0m\u001b[0;34m)\u001b[0m \u001b[0;34m==\u001b[0m \u001b[0;36m1\u001b[0m\u001b[0;34m:\u001b[0m\u001b[0;34m\u001b[0m\u001b[0;34m\u001b[0m\u001b[0m\n\u001b[1;32m     29\u001b[0m         \u001b[0mcur_hex\u001b[0m \u001b[0;34m=\u001b[0m \u001b[0;34m\"0\"\u001b[0m \u001b[0;34m+\u001b[0m \u001b[0mcur_hex\u001b[0m\u001b[0;34m\u001b[0m\u001b[0;34m\u001b[0m\u001b[0m\n",
            "\u001b[0;31mTypeError\u001b[0m: 'str' object is not callable"
          ]
        }
      ]
    },
    {
      "cell_type": "code",
      "source": [
        ""
      ],
      "metadata": {
        "id": "tO9uJDES8IyF"
      },
      "execution_count": null,
      "outputs": []
    }
  ]
}
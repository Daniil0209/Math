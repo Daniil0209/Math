{
 "cells": [
  {
   "cell_type": "code",
   "execution_count": 5,
   "metadata": {},
   "outputs": [
    {
     "name": "stdout",
     "output_type": "stream",
     "text": [
      "373 Kakim umnym ja sebja chuvstvuu\n"
     ]
    }
   ],
   "source": [
    "from collections import Counter\n",
    "import re\n",
    "import lorem\n",
    "\n",
    "with open('task14.input') as f:\n",
    "    data = f.readlines()\n",
    "\n",
    "stats = Counter(' '.join([re.compile('[^A-Za-zА-Яа-я ёЁ]').sub('', lorem.text()) for _ in range(100)]))\n",
    "\n",
    "def from16to2(str16):\n",
    "    return \"{0:08b}\".format(int(str16, 16))\n",
    "    \n",
    "def xor(bin1, bin2):\n",
    "    return int(bin1, 2) ^ int(bin2, 2)\n",
    "    \n",
    "def decypher_text(text):\n",
    "\n",
    "    text_stats = Counter([text[i:i + 2] for i in range(0, len(text), 2)])\n",
    "    for char_from_stat in stats.most_common():\n",
    "        for num, char_from_text in enumerate(text_stats.most_common()):\n",
    "            char_from_stat_bin = bin(int(ord(char_from_stat[0])))\n",
    "            char_from_text_bin = from16to2(char_from_text[0])\n",
    "            \n",
    "            decyphered_text = [chr(xor(bin(xor(char_from_stat_bin, char_from_text_bin)), from16to2(text[i:i + 2]))) \n",
    "                               for i in range(0, len(text), 2)]\n",
    "            decyphered_text = ''.join(decyphered_text)\n",
    "                        \n",
    "            if re.findall('[\\w\\d\\s]*', decyphered_text)[0] == decyphered_text:\n",
    "                return decyphered_text\n",
    "    return None\n",
    "    \n",
    "for num, row in enumerate(data):\n",
    "    res = decypher_text(row.strip())\n",
    "    if res is not None:\n",
    "        print(num, res)"
   ]
  },
  {
   "cell_type": "code",
   "execution_count": null,
   "metadata": {},
   "outputs": [],
   "source": []
  }
 ],
 "metadata": {
  "kernelspec": {
   "display_name": "Python 3",
   "language": "python",
   "name": "python3"
  },
  "language_info": {
   "codemirror_mode": {
    "name": "ipython",
    "version": 3
   },
   "file_extension": ".py",
   "mimetype": "text/x-python",
   "name": "python",
   "nbconvert_exporter": "python",
   "pygments_lexer": "ipython3",
   "version": "3.8.5"
  }
 },
 "nbformat": 4,
 "nbformat_minor": 4
}
